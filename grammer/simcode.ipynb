{
 "cells": [
  {
   "cell_type": "code",
   "execution_count": 1,
   "outputs": [],
   "source": [
    "from grammer.utils import *"
   ],
   "metadata": {
    "collapsed": false,
    "pycharm": {
     "name": "#%%\n"
    }
   }
  },
  {
   "cell_type": "markdown",
   "source": [
    "Normalize the code"
   ],
   "metadata": {
    "collapsed": false,
    "pycharm": {
     "name": "#%% md\n"
    }
   }
  },
  {
   "cell_type": "code",
   "execution_count": 2,
   "metadata": {
    "collapsed": true
   },
   "outputs": [],
   "source": [
    "# This function calculate 8! (the factorial of 8)\n",
    "sim_code = \"\"\"\n",
    "   func simulation(){\n",
    "        a=1;\n",
    "        b=1;\n",
    "        c=16//2;\n",
    "        repeat(c){\n",
    "            a = a*b;\n",
    "            b = b+1;\n",
    "        }\n",
    "        return a;\n",
    "    }\n",
    "    \"\"\""
   ]
  },
  {
   "cell_type": "code",
   "execution_count": 5,
   "outputs": [
    {
     "name": "stdout",
     "output_type": "stream",
     "text": [
      "func simulation(){\n",
      "\ta=1;\n",
      "\tb=1;\n",
      "\tc=16//2;\n",
      "\trepeat(c){\n",
      "\t\ta=a*b;\n",
      "\t\tb=b+1;\n",
      "\t}\n",
      "\treturn a;\n",
      "}\n",
      "\n"
     ]
    }
   ],
   "source": [
    "print(format_simcode(sim_code))"
   ],
   "metadata": {
    "collapsed": false,
    "pycharm": {
     "name": "#%%\n"
    }
   }
  },
  {
   "cell_type": "code",
   "execution_count": 6,
   "outputs": [
    {
     "name": "stdout",
     "output_type": "stream",
     "text": [
      "func simulation(){\n",
      "\tVAR1=1;\n",
      "\tVAR2=1;\n",
      "\tVAR3=16//2;\n",
      "\trepeat(VAR3){\n",
      "\t\tVAR1=VAR1*VAR2;\n",
      "\t\tVAR2=VAR2+1;\n",
      "\t}\n",
      "\treturn VAR1;\n",
      "}\n",
      "\n"
     ]
    }
   ],
   "source": [
    "normal_form = normalize_sim_code(sim_code)\n",
    "print(format_simcode(normal_form))"
   ],
   "metadata": {
    "collapsed": false,
    "pycharm": {
     "name": "#%%\n"
    }
   }
  },
  {
   "cell_type": "markdown",
   "source": [
    "Tokenizer"
   ],
   "metadata": {
    "collapsed": false,
    "pycharm": {
     "name": "#%% md\n"
    }
   }
  },
  {
   "cell_type": "code",
   "execution_count": 7,
   "outputs": [
    {
     "data": {
      "text/plain": "['VAR1',\n '=',\n '1',\n ';',\n 'VAR2',\n '=',\n '1',\n ';',\n 'VAR3',\n '=',\n '1',\n '6',\n '/',\n '/',\n '2',\n ';',\n 'repeat',\n '(',\n 'VAR3',\n ')',\n '{',\n 'VAR1',\n '=',\n 'VAR1',\n '*',\n 'VAR2',\n ';',\n 'VAR2',\n '=',\n 'VAR2',\n '+',\n '1',\n ';',\n '}',\n 'return',\n 'VAR1',\n ';']"
     },
     "execution_count": 7,
     "metadata": {},
     "output_type": "execute_result"
    }
   ],
   "source": [
    "vocab = get_vocab([\"<pad>\"])\n",
    "tokenizer(normal_form, vocab.stoi)"
   ],
   "metadata": {
    "collapsed": false,
    "pycharm": {
     "name": "#%%\n"
    }
   }
  },
  {
   "cell_type": "code",
   "execution_count": 7,
   "outputs": [
    {
     "name": "stdout",
     "output_type": "stream",
     "text": [
      "def simulation():\n",
      "\ta=1\n",
      "\tb=1\n",
      "\tc=16//2\n",
      "\tfor _ in range(c):\n",
      "\t\ta=a*b\n",
      "\t\tb=b+1\n",
      "\treturn a\n",
      "\n"
     ]
    }
   ],
   "source": [
    "print(sim2python(sim_code, False))"
   ],
   "metadata": {
    "collapsed": false,
    "pycharm": {
     "name": "#%%\n"
    }
   }
  },
  {
   "cell_type": "code",
   "execution_count": 8,
   "outputs": [
    {
     "name": "stdout",
     "output_type": "stream",
     "text": [
      "(40320, ['a=1', 'a=1,b=1', 'a=1,b=1,c=8', 'a=1,b=1,c=8', 'a=1,b=2,c=8', 'a=2,b=2,c=8', 'a=2,b=3,c=8', 'a=6,b=3,c=8', 'a=6,b=4,c=8', 'a=24,b=4,c=8', 'a=24,b=5,c=8', 'a=120,b=5,c=8', 'a=120,b=6,c=8', 'a=720,b=6,c=8', 'a=720,b=7,c=8', 'a=5040,b=7,c=8', 'a=5040,b=8,c=8', 'a=40320,b=8,c=8', 'a=40320,b=9,c=8', 'return=a', 'a=40320,b=9,c=8', 'return 40320'])\n"
     ]
    }
   ],
   "source": [
    "# factorial of 8 = 40320\n",
    "print(execute_simcode(sim_code, True))"
   ],
   "metadata": {
    "collapsed": false,
    "pycharm": {
     "name": "#%%\n"
    }
   }
  },
  {
   "cell_type": "code",
   "execution_count": 9,
   "outputs": [
    {
     "data": {
      "text/plain": "1.0"
     },
     "execution_count": 9,
     "metadata": {},
     "output_type": "execute_result"
    }
   ],
   "source": [
    "sim_code_a = \"\"\"\n",
    "   func simulation(){\n",
    "        a=1;\n",
    "        b=1;\n",
    "        c=16//2;\n",
    "        repeat(c){\n",
    "            a = a*b;\n",
    "            b = b+1;\n",
    "        }\n",
    "        return a;\n",
    "    }\n",
    "    \"\"\"\n",
    "sim_code_b = \"\"\"\n",
    "   func simulation(){\n",
    "        a=1;\n",
    "        b=1;\n",
    "        c=16//2;\n",
    "        repeat(c){\n",
    "            a = a*b;\n",
    "            b = b+1;\n",
    "        }\n",
    "        return a;\n",
    "    }\n",
    "    \"\"\"\n",
    "\n",
    "_, state_trace_a = execute_simcode(sim_code_a, True)\n",
    "_, state_trace_b = execute_simcode(sim_code_b, True)\n",
    "\n",
    "state_trace_exact_match(state_trace_a, state_trace_b)\n"
   ],
   "metadata": {
    "collapsed": false,
    "pycharm": {
     "name": "#%%\n"
    }
   }
  },
  {
   "cell_type": "code",
   "execution_count": 8,
   "outputs": [],
   "source": [],
   "metadata": {
    "collapsed": false,
    "pycharm": {
     "name": "#%%\n"
    }
   }
  },
  {
   "cell_type": "code",
   "execution_count": 15,
   "outputs": [],
   "source": [],
   "metadata": {
    "collapsed": false,
    "pycharm": {
     "name": "#%%\n"
    }
   }
  },
  {
   "cell_type": "code",
   "execution_count": null,
   "outputs": [],
   "source": [
    "\n"
   ],
   "metadata": {
    "collapsed": false,
    "pycharm": {
     "name": "#%%\n"
    }
   }
  }
 ],
 "metadata": {
  "kernelspec": {
   "display_name": "Python 3",
   "language": "python",
   "name": "python3"
  },
  "language_info": {
   "codemirror_mode": {
    "name": "ipython",
    "version": 2
   },
   "file_extension": ".py",
   "mimetype": "text/x-python",
   "name": "python",
   "nbconvert_exporter": "python",
   "pygments_lexer": "ipython2",
   "version": "2.7.6"
  }
 },
 "nbformat": 4,
 "nbformat_minor": 0
}